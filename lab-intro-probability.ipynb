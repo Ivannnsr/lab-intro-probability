{
 "cells": [
  {
   "cell_type": "markdown",
   "metadata": {},
   "source": [
    "# Lab | Intro to Probability"
   ]
  },
  {
   "cell_type": "markdown",
   "metadata": {},
   "source": [
    "**Objective**\n",
    "\n",
    "Welcome to this Intro to Probability lab, where we explore decision-making scenarios through the lens of probability and strategic analysis. In the business world, making informed decisions is crucial, especially when faced with uncertainties. This lab focuses on scenarios where probabilistic outcomes play a significant role in shaping strategies and outcomes. Students will engage in exercises that require assessing and choosing optimal paths based on data-driven insights. The goal is to enhance your skills by applying probability concepts to solve real-world problems."
   ]
  },
  {
   "cell_type": "markdown",
   "metadata": {},
   "source": [
    "**Challenge 1**"
   ]
  },
  {
   "cell_type": "markdown",
   "metadata": {},
   "source": [
    "#### Ironhack Airlines \n",
    "\n",
    "Often Airlines sell more tickets than they have seats available, this is called overbooking. Consider the following:\n",
    "- A plane has 450 seats. \n",
    "- Based on historical data we conclude that each individual passenger has a 3% chance of missing it's flight. \n",
    "\n",
    "If the Ironhack Airlines routinely sells 460 tickets, what is the chance that they have a seats for all passenger?"
   ]
  },
  {
   "cell_type": "code",
   "execution_count": 16,
   "metadata": {},
   "outputs": [],
   "source": [
    "from scipy.stats import binom, poisson, expon, norm "
   ]
  },
  {
   "cell_type": "code",
   "execution_count": null,
   "metadata": {},
   "outputs": [
    {
     "name": "stdout",
     "output_type": "stream",
     "text": [
      "La probabilidad de que haya asientos para todos los pasajeros es: 0.8845\n"
     ]
    }
   ],
   "source": [
    "# Parámetros del problema\n",
    "n = 460  # Boletos vendidos\n",
    "p = 0.97  # Probabilidad de que un pasajero se presente\n",
    "k = 450  # Asientos disponibles\n",
    "\n",
    "# Probabilidad de que haya 450 o menos pasajeros presentes\n",
    "probabilidad = binom.cdf(k, n, p)\n",
    "\n",
    "print(f\"La probabilidad de que haya asientos para todos los pasajeros es: {probabilidad:.4f}\")"
   ]
  },
  {
   "cell_type": "markdown",
   "metadata": {},
   "source": [
    "**Challenge 2**"
   ]
  },
  {
   "cell_type": "markdown",
   "metadata": {},
   "source": [
    "#### Ironhack Call Center "
   ]
  },
  {
   "cell_type": "markdown",
   "metadata": {},
   "source": [
    "Suppose a customer service representative at a call center is handling customer complaints. Consider the following:\n",
    "- The probability of successfully resolving a customer complaint on the first attempt is 0.3. \n",
    "\n",
    "\n",
    "What is the probability that the representative needs to make at least three attempts before successfully resolving a customer complaint?"
   ]
  },
  {
   "cell_type": "code",
   "execution_count": null,
   "metadata": {},
   "outputs": [
    {
     "data": {
      "text/plain": [
       "0.49"
      ]
     },
     "execution_count": 4,
     "metadata": {},
     "output_type": "execute_result"
    }
   ],
   "source": [
    "p = 0.3\n",
    "q = 1 - p\n",
    "\n",
    "P_X_1 = p\n",
    "P_X_2 = q * p\n",
    "\n",
    "# Probabilidad de necesitar al menos 3 intentos\n",
    "P_X_geq_3 = 1 - (P_X_1 + P_X_2)\n",
    "\n",
    "P_X_geq_3\n"
   ]
  },
  {
   "cell_type": "markdown",
   "metadata": {},
   "source": [
    "**Challenge 3**"
   ]
  },
  {
   "cell_type": "markdown",
   "metadata": {},
   "source": [
    "#### Ironhack Website"
   ]
  },
  {
   "cell_type": "markdown",
   "metadata": {},
   "source": [
    "Consider a scenario related to Ironhack website traffic. Where:\n",
    "- our website takes on average 500 visits per hour.\n",
    "- the website's server is designed to handle up to 550 vists per hour.\n",
    "\n",
    "\n",
    "What is the probability of the website server being overwhelmed?"
   ]
  },
  {
   "cell_type": "code",
   "execution_count": 9,
   "metadata": {},
   "outputs": [
    {
     "name": "stdout",
     "output_type": "stream",
     "text": [
      "Probabilidad de sobrecarga del servidor en una hora: 0.0129\n",
      "Probabilidad de sobrecarga del servidor en algún momento del día: 0.2677\n"
     ]
    }
   ],
   "source": [
    "# Parámetros del problema\n",
    "lambda_visits = 500  # visitas promedio por hora\n",
    "server_capacity = 550  # capacidad máxima del servidor\n",
    "\n",
    "# Probabilidad de que el número de visitas supere la capacidad del servidor en una hora\n",
    "prob_overload_hourly = 1 - poisson.cdf(server_capacity, lambda_visits)\n",
    "\n",
    "# Probabilidad de que ocurra al menos una sobrecarga en 24 horas\n",
    "prob_overload_daily = 1 - (1 - prob_overload_hourly) ** 24\n",
    "\n",
    "print(f\"Probabilidad de sobrecarga del servidor en una hora: {prob_overload_hourly:.4f}\")\n",
    "print(f\"Probabilidad de sobrecarga del servidor en algún momento del día: {prob_overload_daily:.4f}\")"
   ]
  },
  {
   "cell_type": "markdown",
   "metadata": {},
   "source": [
    "What is the probability of being overwhelmed at some point during a day? (consider 24hours)"
   ]
  },
  {
   "cell_type": "markdown",
   "metadata": {},
   "source": [
    "**Challenge 4**"
   ]
  },
  {
   "cell_type": "markdown",
   "metadata": {},
   "source": [
    "#### Ironhack Helpdesk"
   ]
  },
  {
   "cell_type": "markdown",
   "metadata": {},
   "source": [
    "Consider a scenario related to the time between arrivals of customers at a service desk.\n",
    "\n",
    "On average, a customers arrives every 10minutes.\n",
    "\n",
    "What is the probability that the next customer will arrive within the next 5 minutes?"
   ]
  },
  {
   "cell_type": "code",
   "execution_count": 12,
   "metadata": {},
   "outputs": [
    {
     "name": "stdout",
     "output_type": "stream",
     "text": [
      "Probabilidad de que el próximo cliente llegue en los próximos 5 minutos: 0.6065\n"
     ]
    }
   ],
   "source": [
    "# Parámetros para la llegada de clientes\n",
    "mean_interarrival_time = 10  # minutos entre llegadas\n",
    "x = 5  # minutos dentro de los cuales queremos calcular la probabilidad\n",
    "\n",
    "# Distribución exponencial para modelar tiempos entre llegadas\n",
    "prob_arrival_within_x = 1 - expon.cdf(x, scale=mean_interarrival_time)\n",
    "\n",
    "print(f\"Probabilidad de que el próximo cliente llegue en los próximos {x} minutos: {prob_arrival_within_x:.4f}\")"
   ]
  },
  {
   "cell_type": "markdown",
   "metadata": {},
   "source": [
    "If there is no customer for 15minutes, employees can that a 5minutes break.\n",
    "\n",
    "What is the probability an employee taking a break?"
   ]
  },
  {
   "cell_type": "code",
   "execution_count": 13,
   "metadata": {},
   "outputs": [
    {
     "name": "stdout",
     "output_type": "stream",
     "text": [
      "Probabilidad de que un empleado pueda tomar un descanso: 0.7769\n"
     ]
    }
   ],
   "source": [
    "# Probabilidad de que no haya clientes por al menos 15 minutos\n",
    "prob_no_customer_15_min = expon.cdf(15, scale=mean_interarrival_time)\n",
    "\n",
    "print(f\"Probabilidad de que un empleado pueda tomar un descanso: {prob_no_customer_15_min:.4f}\")"
   ]
  },
  {
   "cell_type": "markdown",
   "metadata": {},
   "source": [
    "**Challenge 5**"
   ]
  },
  {
   "cell_type": "markdown",
   "metadata": {},
   "source": [
    "The weights of a certain species of birds follow a normal distribution with a mean weight of 150 grams and a standard deviation of 10 grams. \n",
    "\n",
    "- If we randomly select a bird, what is the probability that its weight is between 140 and 160 grams?"
   ]
  },
  {
   "cell_type": "code",
   "execution_count": null,
   "metadata": {},
   "outputs": [
    {
     "name": "stdout",
     "output_type": "stream",
     "text": [
      "Probabilidad de que el peso de un ave esté entre 140 y 160 gramos: 0.6827\n"
     ]
    }
   ],
   "source": [
    "# Parámetros para el peso de las aves\n",
    "mean_weight = 150  # gramos\n",
    "std_dev_weight = 10  # gramos\n",
    "lower_bound = 140\n",
    "upper_bound = 160\n",
    "\n",
    "# Probabilidad de que un ave pese entre 140 y 160 gramos\n",
    "prob_weight_range = norm.cdf(upper_bound, mean_weight, std_dev_weight) - norm.cdf(lower_bound, mean_weight, std_dev_weight)\n",
    "\n",
    "print(f\"Probabilidad estr entre {lower_bound} y {upper_bound} gramos: {prob_weight_range:.4f}\")\n"
   ]
  },
  {
   "cell_type": "markdown",
   "metadata": {},
   "source": [
    "**Challenge 6**"
   ]
  },
  {
   "cell_type": "markdown",
   "metadata": {},
   "source": [
    "If the lifetime (in hours) of a certain electronic component follows an exponential distribution with a mean lifetime of 50 hours, what is the probability that the component fails within the first 30 hours?"
   ]
  },
  {
   "cell_type": "code",
   "execution_count": null,
   "metadata": {},
   "outputs": [],
   "source": [
    "#code here"
   ]
  }
 ],
 "metadata": {
  "kernelspec": {
   "display_name": "base",
   "language": "python",
   "name": "python3"
  },
  "language_info": {
   "codemirror_mode": {
    "name": "ipython",
    "version": 3
   },
   "file_extension": ".py",
   "mimetype": "text/x-python",
   "name": "python",
   "nbconvert_exporter": "python",
   "pygments_lexer": "ipython3",
   "version": "3.12.4"
  }
 },
 "nbformat": 4,
 "nbformat_minor": 2
}
